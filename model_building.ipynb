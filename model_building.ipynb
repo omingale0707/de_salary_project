{
 "cells": [
  {
   "cell_type": "code",
   "execution_count": 1,
   "metadata": {},
   "outputs": [],
   "source": [
    "import pandas as pd\n",
    "import numpy as np\n",
    "import matplotlib.pyplot as plt"
   ]
  },
  {
   "cell_type": "code",
   "execution_count": 2,
   "metadata": {},
   "outputs": [],
   "source": [
    "df = pd.read_csv(\"eda_data.csv\")"
   ]
  },
  {
   "cell_type": "code",
   "execution_count": 3,
   "metadata": {},
   "outputs": [],
   "source": [
    "# get relevant columns\n",
    "# generate dummy variables\n",
    "# train test split\n",
    "# Multiple Linear Regression\n",
    "# Lasso Regeression\n",
    "# RandomForests\n",
    "# train models for GridSearchCV\n",
    "# Ensemble"
   ]
  },
  {
   "cell_type": "code",
   "execution_count": 4,
   "metadata": {},
   "outputs": [
    {
     "data": {
      "text/plain": [
       "Index(['Unnamed: 0', 'Job Title', 'Salary Estimate', 'Job Description',\n",
       "       'Rating', 'Company Name', 'Location', 'Headquarters', 'Size', 'Founded',\n",
       "       'Type of ownership', 'Industry', 'Sector', 'Revenue', 'Competitors',\n",
       "       'hourly', 'employer_provided', 'min_salary', 'max_salary', 'avg_salary',\n",
       "       'company_txt', 'job_state', 'same_state', 'age', 'python_yn', 'R_yn',\n",
       "       'spark', 'aws', 'excel', 'job_simp', 'seniority', 'desc_len',\n",
       "       'num_comp', 'azure', 'SQL', 'tableau_yn'],\n",
       "      dtype='object')"
      ]
     },
     "execution_count": 4,
     "metadata": {},
     "output_type": "execute_result"
    }
   ],
   "source": [
    "df.columns"
   ]
  },
  {
   "cell_type": "code",
   "execution_count": 5,
   "metadata": {},
   "outputs": [],
   "source": [
    "# get relevant columns\n",
    "df_model = df[['avg_salary','Rating','Size','Type of ownership', 'Industry', 'Sector', 'Revenue','hourly', 'employer_provided','job_state', \n",
    "               'same_state', 'age', 'spark', 'aws', 'excel', 'job_simp', 'seniority', 'desc_len', 'num_comp', 'azure', 'SQL', \n",
    "               'tableau_yn','python_yn']]"
   ]
  },
  {
   "cell_type": "code",
   "execution_count": 6,
   "metadata": {},
   "outputs": [
    {
     "data": {
      "text/plain": [
       "(742, 23)"
      ]
     },
     "execution_count": 6,
     "metadata": {},
     "output_type": "execute_result"
    }
   ],
   "source": [
    "df_model.shape"
   ]
  },
  {
   "cell_type": "code",
   "execution_count": 7,
   "metadata": {},
   "outputs": [],
   "source": [
    "# generate dummy variables\n",
    "df_dum = pd.get_dummies(df_model)"
   ]
  },
  {
   "cell_type": "code",
   "execution_count": 8,
   "metadata": {},
   "outputs": [
    {
     "data": {
      "text/plain": [
       "(742, 182)"
      ]
     },
     "execution_count": 8,
     "metadata": {},
     "output_type": "execute_result"
    }
   ],
   "source": [
    "df_dum.shape"
   ]
  },
  {
   "cell_type": "code",
   "execution_count": 12,
   "metadata": {},
   "outputs": [],
   "source": [
    "# train test split\n",
    "from sklearn.model_selection import train_test_split\n",
    "\n",
    "X=df_dum.drop(columns='avg_salary', axis=1)\n",
    "y=df_dum[\"avg_salary\"]\n",
    "X_train, X_test, y_train, y_test = train_test_split(X, y, test_size=0.2, random_state=42)"
   ]
  },
  {
   "cell_type": "code",
   "execution_count": 14,
   "metadata": {},
   "outputs": [
    {
     "data": {
      "text/plain": [
       "(149, 181)"
      ]
     },
     "execution_count": 14,
     "metadata": {},
     "output_type": "execute_result"
    }
   ],
   "source": [
    "X_test.shape"
   ]
  },
  {
   "cell_type": "code",
   "execution_count": null,
   "metadata": {},
   "outputs": [],
   "source": [
    "# from sklearn.preprocessing import StandardScaler\n",
    "# scaler = StandardScaler()\n",
    "# scalar.fit(X_train)\n",
    "\n",
    "# Do it later"
   ]
  },
  {
   "cell_type": "code",
   "execution_count": 18,
   "metadata": {},
   "outputs": [],
   "source": [
    "import statsmodels.api as sm\n",
    "\n",
    "X_sm = sm.add_constant(X)\n",
    "model = sm.OLS(y,X_sm)\n"
   ]
  },
  {
   "cell_type": "code",
   "execution_count": 19,
   "metadata": {},
   "outputs": [
    {
     "data": {
      "text/html": [
       "<table class=\"simpletable\">\n",
       "<caption>OLS Regression Results</caption>\n",
       "<tr>\n",
       "  <th>Dep. Variable:</th>       <td>avg_salary</td>    <th>  R-squared:         </th> <td>   0.662</td>\n",
       "</tr>\n",
       "<tr>\n",
       "  <th>Model:</th>                   <td>OLS</td>       <th>  Adj. R-squared:    </th> <td>   0.579</td>\n",
       "</tr>\n",
       "<tr>\n",
       "  <th>Method:</th>             <td>Least Squares</td>  <th>  F-statistic:       </th> <td>   7.985</td>\n",
       "</tr>\n",
       "<tr>\n",
       "  <th>Date:</th>             <td>Sat, 13 Nov 2021</td> <th>  Prob (F-statistic):</th> <td>7.02e-76</td>\n",
       "</tr>\n",
       "<tr>\n",
       "  <th>Time:</th>                 <td>17:03:27</td>     <th>  Log-Likelihood:    </th> <td> -3340.0</td>\n",
       "</tr>\n",
       "<tr>\n",
       "  <th>No. Observations:</th>      <td>   742</td>      <th>  AIC:               </th> <td>   6974.</td>\n",
       "</tr>\n",
       "<tr>\n",
       "  <th>Df Residuals:</th>          <td>   595</td>      <th>  BIC:               </th> <td>   7652.</td>\n",
       "</tr>\n",
       "<tr>\n",
       "  <th>Df Model:</th>              <td>   146</td>      <th>                     </th>     <td> </td>   \n",
       "</tr>\n",
       "<tr>\n",
       "  <th>Covariance Type:</th>      <td>nonrobust</td>    <th>                     </th>     <td> </td>   \n",
       "</tr>\n",
       "</table>\n",
       "<table class=\"simpletable\">\n",
       "<tr>\n",
       "                          <td></td>                             <th>coef</th>     <th>std err</th>      <th>t</th>      <th>P>|t|</th>  <th>[0.025</th>    <th>0.975]</th>  \n",
       "</tr>\n",
       "<tr>\n",
       "  <th>const</th>                                             <td>   40.1037</td> <td>    6.850</td> <td>    5.854</td> <td> 0.000</td> <td>   26.650</td> <td>   53.558</td>\n",
       "</tr>\n",
       "<tr>\n",
       "  <th>Rating</th>                                            <td>    4.4274</td> <td>    2.007</td> <td>    2.206</td> <td> 0.028</td> <td>    0.486</td> <td>    8.369</td>\n",
       "</tr>\n",
       "<tr>\n",
       "  <th>hourly</th>                                            <td>  -15.4246</td> <td>    9.902</td> <td>   -1.558</td> <td> 0.120</td> <td>  -34.873</td> <td>    4.023</td>\n",
       "</tr>\n",
       "<tr>\n",
       "  <th>employer_provided</th>                                 <td>   29.4233</td> <td>   12.111</td> <td>    2.429</td> <td> 0.015</td> <td>    5.637</td> <td>   53.210</td>\n",
       "</tr>\n",
       "<tr>\n",
       "  <th>same_state</th>                                        <td>    3.8104</td> <td>    2.772</td> <td>    1.375</td> <td> 0.170</td> <td>   -1.634</td> <td>    9.255</td>\n",
       "</tr>\n",
       "<tr>\n",
       "  <th>age</th>                                               <td>    0.0235</td> <td>    0.032</td> <td>    0.744</td> <td> 0.457</td> <td>   -0.039</td> <td>    0.086</td>\n",
       "</tr>\n",
       "<tr>\n",
       "  <th>spark</th>                                             <td>   -1.9053</td> <td>    3.035</td> <td>   -0.628</td> <td> 0.530</td> <td>   -7.866</td> <td>    4.055</td>\n",
       "</tr>\n",
       "<tr>\n",
       "  <th>aws</th>                                               <td>    2.8788</td> <td>    2.972</td> <td>    0.969</td> <td> 0.333</td> <td>   -2.957</td> <td>    8.715</td>\n",
       "</tr>\n",
       "<tr>\n",
       "  <th>excel</th>                                             <td>   -1.0249</td> <td>    2.381</td> <td>   -0.430</td> <td> 0.667</td> <td>   -5.702</td> <td>    3.652</td>\n",
       "</tr>\n",
       "<tr>\n",
       "  <th>desc_len</th>                                          <td>   -0.0002</td> <td>    0.001</td> <td>   -0.278</td> <td> 0.781</td> <td>   -0.002</td> <td>    0.001</td>\n",
       "</tr>\n",
       "<tr>\n",
       "  <th>num_comp</th>                                          <td>    2.4725</td> <td>    0.909</td> <td>    2.720</td> <td> 0.007</td> <td>    0.688</td> <td>    4.257</td>\n",
       "</tr>\n",
       "<tr>\n",
       "  <th>azure</th>                                             <td>  -10.3351</td> <td>    4.834</td> <td>   -2.138</td> <td> 0.033</td> <td>  -19.829</td> <td>   -0.841</td>\n",
       "</tr>\n",
       "<tr>\n",
       "  <th>SQL</th>                                               <td>   -3.8663</td> <td>    2.765</td> <td>   -1.398</td> <td> 0.162</td> <td>   -9.296</td> <td>    1.563</td>\n",
       "</tr>\n",
       "<tr>\n",
       "  <th>tableau_yn</th>                                        <td>   -3.6818</td> <td>    3.211</td> <td>   -1.147</td> <td> 0.252</td> <td>   -9.988</td> <td>    2.624</td>\n",
       "</tr>\n",
       "<tr>\n",
       "  <th>python_yn</th>                                         <td>    8.9286</td> <td>    2.767</td> <td>    3.227</td> <td> 0.001</td> <td>    3.495</td> <td>   14.362</td>\n",
       "</tr>\n",
       "<tr>\n",
       "  <th>Size_-1</th>                                           <td>   13.3254</td> <td>    9.039</td> <td>    1.474</td> <td> 0.141</td> <td>   -4.427</td> <td>   31.078</td>\n",
       "</tr>\n",
       "<tr>\n",
       "  <th>Size_1 to 50 employees</th>                            <td>   -0.0837</td> <td>    6.822</td> <td>   -0.012</td> <td> 0.990</td> <td>  -13.481</td> <td>   13.314</td>\n",
       "</tr>\n",
       "<tr>\n",
       "  <th>Size_10000+ employees</th>                             <td>   -2.5236</td> <td>    6.083</td> <td>   -0.415</td> <td> 0.678</td> <td>  -14.470</td> <td>    9.423</td>\n",
       "</tr>\n",
       "<tr>\n",
       "  <th>Size_1001 to 5000 employees</th>                       <td>    6.6335</td> <td>    4.057</td> <td>    1.635</td> <td> 0.103</td> <td>   -1.334</td> <td>   14.601</td>\n",
       "</tr>\n",
       "<tr>\n",
       "  <th>Size_201 to 500 employees</th>                         <td>    2.8552</td> <td>    4.091</td> <td>    0.698</td> <td> 0.485</td> <td>   -5.179</td> <td>   10.889</td>\n",
       "</tr>\n",
       "<tr>\n",
       "  <th>Size_5001 to 10000 employees</th>                      <td>   -4.9921</td> <td>    5.733</td> <td>   -0.871</td> <td> 0.384</td> <td>  -16.252</td> <td>    6.267</td>\n",
       "</tr>\n",
       "<tr>\n",
       "  <th>Size_501 to 1000 employees</th>                        <td>    3.4633</td> <td>    4.261</td> <td>    0.813</td> <td> 0.417</td> <td>   -4.905</td> <td>   11.831</td>\n",
       "</tr>\n",
       "<tr>\n",
       "  <th>Size_51 to 200 employees</th>                          <td>    5.1990</td> <td>    4.628</td> <td>    1.123</td> <td> 0.262</td> <td>   -3.890</td> <td>   14.288</td>\n",
       "</tr>\n",
       "<tr>\n",
       "  <th>Size_Unknown</th>                                      <td>   16.2267</td> <td>   14.832</td> <td>    1.094</td> <td> 0.274</td> <td>  -12.902</td> <td>   45.356</td>\n",
       "</tr>\n",
       "<tr>\n",
       "  <th>Type of ownership_-1</th>                              <td>   13.3254</td> <td>    9.039</td> <td>    1.474</td> <td> 0.141</td> <td>   -4.427</td> <td>   31.078</td>\n",
       "</tr>\n",
       "<tr>\n",
       "  <th>Type of ownership_College / University</th>            <td>    0.2626</td> <td>   18.759</td> <td>    0.014</td> <td> 0.989</td> <td>  -36.580</td> <td>   37.105</td>\n",
       "</tr>\n",
       "<tr>\n",
       "  <th>Type of ownership_Company - Private</th>               <td>    6.7868</td> <td>    5.451</td> <td>    1.245</td> <td> 0.214</td> <td>   -3.919</td> <td>   17.492</td>\n",
       "</tr>\n",
       "<tr>\n",
       "  <th>Type of ownership_Company - Public</th>                <td>   11.1118</td> <td>    5.949</td> <td>    1.868</td> <td> 0.062</td> <td>   -0.572</td> <td>   22.796</td>\n",
       "</tr>\n",
       "<tr>\n",
       "  <th>Type of ownership_Government</th>                      <td>   -8.6468</td> <td>   16.111</td> <td>   -0.537</td> <td> 0.592</td> <td>  -40.288</td> <td>   22.994</td>\n",
       "</tr>\n",
       "<tr>\n",
       "  <th>Type of ownership_Hospital</th>                        <td>  -12.0079</td> <td>   10.567</td> <td>   -1.136</td> <td> 0.256</td> <td>  -32.761</td> <td>    8.745</td>\n",
       "</tr>\n",
       "<tr>\n",
       "  <th>Type of ownership_Nonprofit Organization</th>          <td>   -8.6707</td> <td>    7.103</td> <td>   -1.221</td> <td> 0.223</td> <td>  -22.621</td> <td>    5.279</td>\n",
       "</tr>\n",
       "<tr>\n",
       "  <th>Type of ownership_Other Organization</th>              <td>   -0.3719</td> <td>   14.950</td> <td>   -0.025</td> <td> 0.980</td> <td>  -29.733</td> <td>   28.989</td>\n",
       "</tr>\n",
       "<tr>\n",
       "  <th>Type of ownership_School / School District</th>        <td>   -7.0703</td> <td>   25.014</td> <td>   -0.283</td> <td> 0.778</td> <td>  -56.196</td> <td>   42.055</td>\n",
       "</tr>\n",
       "<tr>\n",
       "  <th>Type of ownership_Subsidiary or Business Segment</th>  <td>    8.4269</td> <td>    7.194</td> <td>    1.171</td> <td> 0.242</td> <td>   -5.702</td> <td>   22.556</td>\n",
       "</tr>\n",
       "<tr>\n",
       "  <th>Type of ownership_Unknown</th>                         <td>   36.9578</td> <td>   29.847</td> <td>    1.238</td> <td> 0.216</td> <td>  -21.660</td> <td>   95.576</td>\n",
       "</tr>\n",
       "<tr>\n",
       "  <th>Industry_-1</th>                                       <td>    7.9794</td> <td>    8.316</td> <td>    0.959</td> <td> 0.338</td> <td>   -8.353</td> <td>   24.312</td>\n",
       "</tr>\n",
       "<tr>\n",
       "  <th>Industry_Accounting</th>                               <td>    3.4444</td> <td>   14.066</td> <td>    0.245</td> <td> 0.807</td> <td>  -24.180</td> <td>   31.069</td>\n",
       "</tr>\n",
       "<tr>\n",
       "  <th>Industry_Advertising & Marketing</th>                  <td>   13.7106</td> <td>    6.300</td> <td>    2.176</td> <td> 0.030</td> <td>    1.338</td> <td>   26.083</td>\n",
       "</tr>\n",
       "<tr>\n",
       "  <th>Industry_Aerospace & Defense</th>                      <td>    4.7617</td> <td>    3.260</td> <td>    1.461</td> <td> 0.145</td> <td>   -1.640</td> <td>   11.163</td>\n",
       "</tr>\n",
       "<tr>\n",
       "  <th>Industry_Architectural & Engineering Services</th>     <td>  -36.8932</td> <td>   16.785</td> <td>   -2.198</td> <td> 0.028</td> <td>  -69.859</td> <td>   -3.928</td>\n",
       "</tr>\n",
       "<tr>\n",
       "  <th>Industry_Auctions & Galleries</th>                     <td>   12.5598</td> <td>   23.948</td> <td>    0.524</td> <td> 0.600</td> <td>  -34.473</td> <td>   59.592</td>\n",
       "</tr>\n",
       "<tr>\n",
       "  <th>Industry_Banks & Credit Unions</th>                    <td>  -19.7045</td> <td>    8.439</td> <td>   -2.335</td> <td> 0.020</td> <td>  -36.278</td> <td>   -3.131</td>\n",
       "</tr>\n",
       "<tr>\n",
       "  <th>Industry_Beauty & Personal Accessories Stores</th>     <td>   11.7308</td> <td>   22.474</td> <td>    0.522</td> <td> 0.602</td> <td>  -32.407</td> <td>   55.869</td>\n",
       "</tr>\n",
       "<tr>\n",
       "  <th>Industry_Biotech & Pharmaceuticals</th>                <td>    5.1103</td> <td>    2.228</td> <td>    2.293</td> <td> 0.022</td> <td>    0.734</td> <td>    9.486</td>\n",
       "</tr>\n",
       "<tr>\n",
       "  <th>Industry_Brokerage Services</th>                       <td>   28.5267</td> <td>   16.211</td> <td>    1.760</td> <td> 0.079</td> <td>   -3.311</td> <td>   60.364</td>\n",
       "</tr>\n",
       "<tr>\n",
       "  <th>Industry_Colleges & Universities</th>                  <td>   12.8188</td> <td>   13.570</td> <td>    0.945</td> <td> 0.345</td> <td>  -13.832</td> <td>   39.470</td>\n",
       "</tr>\n",
       "<tr>\n",
       "  <th>Industry_Computer Hardware & Software</th>             <td>   -2.1087</td> <td>    3.388</td> <td>   -0.622</td> <td> 0.534</td> <td>   -8.763</td> <td>    4.545</td>\n",
       "</tr>\n",
       "<tr>\n",
       "  <th>Industry_Construction</th>                             <td>  -12.4844</td> <td>   11.067</td> <td>   -1.128</td> <td> 0.260</td> <td>  -34.220</td> <td>    9.251</td>\n",
       "</tr>\n",
       "<tr>\n",
       "  <th>Industry_Consulting</th>                               <td>   15.2192</td> <td>    6.424</td> <td>    2.369</td> <td> 0.018</td> <td>    2.602</td> <td>   27.836</td>\n",
       "</tr>\n",
       "<tr>\n",
       "  <th>Industry_Consumer Product Rental</th>                  <td>   -1.4597</td> <td>   13.571</td> <td>   -0.108</td> <td> 0.914</td> <td>  -28.113</td> <td>   25.194</td>\n",
       "</tr>\n",
       "<tr>\n",
       "  <th>Industry_Consumer Products Manufacturing</th>          <td>   12.7064</td> <td>   10.318</td> <td>    1.232</td> <td> 0.219</td> <td>   -7.557</td> <td>   32.970</td>\n",
       "</tr>\n",
       "<tr>\n",
       "  <th>Industry_Department, Clothing, & Shoe Stores</th>      <td>    4.5756</td> <td>   12.091</td> <td>    0.378</td> <td> 0.705</td> <td>  -19.171</td> <td>   28.322</td>\n",
       "</tr>\n",
       "<tr>\n",
       "  <th>Industry_Education Training Services</th>              <td>  -24.3960</td> <td>   13.110</td> <td>   -1.861</td> <td> 0.063</td> <td>  -50.144</td> <td>    1.352</td>\n",
       "</tr>\n",
       "<tr>\n",
       "  <th>Industry_Energy</th>                                   <td>   -7.8988</td> <td>    8.105</td> <td>   -0.975</td> <td> 0.330</td> <td>  -23.817</td> <td>    8.019</td>\n",
       "</tr>\n",
       "<tr>\n",
       "  <th>Industry_Enterprise Software & Network Solutions</th>  <td>   10.0534</td> <td>    3.785</td> <td>    2.656</td> <td> 0.008</td> <td>    2.620</td> <td>   17.487</td>\n",
       "</tr>\n",
       "<tr>\n",
       "  <th>Industry_Farm Support Services</th>                    <td>   -1.8537</td> <td>   13.215</td> <td>   -0.140</td> <td> 0.888</td> <td>  -27.808</td> <td>   24.101</td>\n",
       "</tr>\n",
       "<tr>\n",
       "  <th>Industry_Federal Agencies</th>                         <td>    4.9213</td> <td>    5.505</td> <td>    0.894</td> <td> 0.372</td> <td>   -5.889</td> <td>   15.732</td>\n",
       "</tr>\n",
       "<tr>\n",
       "  <th>Industry_Financial Analytics & Research</th>           <td>    0.1632</td> <td>    9.596</td> <td>    0.017</td> <td> 0.986</td> <td>  -18.682</td> <td>   19.009</td>\n",
       "</tr>\n",
       "<tr>\n",
       "  <th>Industry_Financial Transaction Processing</th>         <td>  -14.5140</td> <td>   13.522</td> <td>   -1.073</td> <td> 0.284</td> <td>  -41.071</td> <td>   12.043</td>\n",
       "</tr>\n",
       "<tr>\n",
       "  <th>Industry_Food & Beverage Manufacturing</th>            <td>  -13.6639</td> <td>   12.191</td> <td>   -1.121</td> <td> 0.263</td> <td>  -37.607</td> <td>   10.279</td>\n",
       "</tr>\n",
       "<tr>\n",
       "  <th>Industry_Gambling</th>                                 <td>   -8.0688</td> <td>    6.812</td> <td>   -1.184</td> <td> 0.237</td> <td>  -21.448</td> <td>    5.311</td>\n",
       "</tr>\n",
       "<tr>\n",
       "  <th>Industry_Gas Stations</th>                             <td>  -29.0683</td> <td>   16.455</td> <td>   -1.767</td> <td> 0.078</td> <td>  -61.385</td> <td>    3.249</td>\n",
       "</tr>\n",
       "<tr>\n",
       "  <th>Industry_Health Care Products Manufacturing</th>       <td>   39.5854</td> <td>   23.568</td> <td>    1.680</td> <td> 0.094</td> <td>   -6.702</td> <td>   85.872</td>\n",
       "</tr>\n",
       "<tr>\n",
       "  <th>Industry_Health Care Services & Hospitals</th>         <td>    7.9951</td> <td>    3.032</td> <td>    2.637</td> <td> 0.009</td> <td>    2.041</td> <td>   13.950</td>\n",
       "</tr>\n",
       "<tr>\n",
       "  <th>Industry_Health, Beauty, & Fitness</th>                <td>   -2.7221</td> <td>   18.189</td> <td>   -0.150</td> <td> 0.881</td> <td>  -38.445</td> <td>   33.001</td>\n",
       "</tr>\n",
       "<tr>\n",
       "  <th>Industry_IT Services</th>                              <td>    3.7182</td> <td>    3.808</td> <td>    0.976</td> <td> 0.329</td> <td>   -3.762</td> <td>   11.198</td>\n",
       "</tr>\n",
       "<tr>\n",
       "  <th>Industry_Industrial Manufacturing</th>                 <td>  -21.5341</td> <td>   13.446</td> <td>   -1.602</td> <td> 0.110</td> <td>  -47.942</td> <td>    4.874</td>\n",
       "</tr>\n",
       "<tr>\n",
       "  <th>Industry_Insurance Agencies & Brokerages</th>          <td>   -6.2966</td> <td>    7.296</td> <td>   -0.863</td> <td> 0.388</td> <td>  -20.625</td> <td>    8.032</td>\n",
       "</tr>\n",
       "<tr>\n",
       "  <th>Industry_Insurance Carriers</th>                       <td>    9.8478</td> <td>    4.634</td> <td>    2.125</td> <td> 0.034</td> <td>    0.747</td> <td>   18.949</td>\n",
       "</tr>\n",
       "<tr>\n",
       "  <th>Industry_Internet</th>                                 <td>   -1.7830</td> <td>    4.833</td> <td>   -0.369</td> <td> 0.712</td> <td>  -11.276</td> <td>    7.710</td>\n",
       "</tr>\n",
       "<tr>\n",
       "  <th>Industry_Investment Banking & Asset Management</th>    <td>   31.5427</td> <td>   12.605</td> <td>    2.502</td> <td> 0.013</td> <td>    6.787</td> <td>   56.298</td>\n",
       "</tr>\n",
       "<tr>\n",
       "  <th>Industry_K-12 Education</th>                           <td>    8.7541</td> <td>   15.423</td> <td>    0.568</td> <td> 0.571</td> <td>  -21.537</td> <td>   39.045</td>\n",
       "</tr>\n",
       "<tr>\n",
       "  <th>Industry_Lending</th>                                  <td>   -3.5308</td> <td>   10.314</td> <td>   -0.342</td> <td> 0.732</td> <td>  -23.786</td> <td>   16.725</td>\n",
       "</tr>\n",
       "<tr>\n",
       "  <th>Industry_Logistics & Supply Chain</th>                 <td>   -1.8577</td> <td>   13.995</td> <td>   -0.133</td> <td> 0.894</td> <td>  -29.344</td> <td>   25.629</td>\n",
       "</tr>\n",
       "<tr>\n",
       "  <th>Industry_Metals Brokers</th>                           <td>   -4.5785</td> <td>   16.637</td> <td>   -0.275</td> <td> 0.783</td> <td>  -37.252</td> <td>   28.095</td>\n",
       "</tr>\n",
       "<tr>\n",
       "  <th>Industry_Mining</th>                                   <td>   -0.1304</td> <td>   19.070</td> <td>   -0.007</td> <td> 0.995</td> <td>  -37.582</td> <td>   37.321</td>\n",
       "</tr>\n",
       "<tr>\n",
       "  <th>Industry_Motion Picture Production & Distribution</th> <td>   35.1060</td> <td>   20.490</td> <td>    1.713</td> <td> 0.087</td> <td>   -5.136</td> <td>   75.348</td>\n",
       "</tr>\n",
       "<tr>\n",
       "  <th>Industry_Other Retail Stores</th>                      <td>   36.0866</td> <td>   22.637</td> <td>    1.594</td> <td> 0.111</td> <td>   -8.372</td> <td>   80.545</td>\n",
       "</tr>\n",
       "<tr>\n",
       "  <th>Industry_Real Estate</th>                              <td>   -2.9263</td> <td>    5.172</td> <td>   -0.566</td> <td> 0.572</td> <td>  -13.083</td> <td>    7.230</td>\n",
       "</tr>\n",
       "<tr>\n",
       "  <th>Industry_Religious Organizations</th>                  <td>   22.9005</td> <td>   14.299</td> <td>    1.602</td> <td> 0.110</td> <td>   -5.182</td> <td>   50.982</td>\n",
       "</tr>\n",
       "<tr>\n",
       "  <th>Industry_Research & Development</th>                   <td>   -7.7789</td> <td>    7.271</td> <td>   -1.070</td> <td> 0.285</td> <td>  -22.058</td> <td>    6.500</td>\n",
       "</tr>\n",
       "<tr>\n",
       "  <th>Industry_Security Services</th>                        <td>   12.5524</td> <td>   10.302</td> <td>    1.218</td> <td> 0.224</td> <td>   -7.680</td> <td>   32.785</td>\n",
       "</tr>\n",
       "<tr>\n",
       "  <th>Industry_Social Assistance</th>                        <td>  -12.5161</td> <td>   12.324</td> <td>   -1.016</td> <td> 0.310</td> <td>  -36.720</td> <td>   11.688</td>\n",
       "</tr>\n",
       "<tr>\n",
       "  <th>Industry_Sporting Goods Stores</th>                    <td>  -30.1318</td> <td>   18.522</td> <td>   -1.627</td> <td> 0.104</td> <td>  -66.509</td> <td>    6.245</td>\n",
       "</tr>\n",
       "<tr>\n",
       "  <th>Industry_Staffing & Outsourcing</th>                   <td>   -6.8743</td> <td>   11.238</td> <td>   -0.612</td> <td> 0.541</td> <td>  -28.945</td> <td>   15.197</td>\n",
       "</tr>\n",
       "<tr>\n",
       "  <th>Industry_Stock Exchanges</th>                          <td>  -12.5045</td> <td>    8.245</td> <td>   -1.517</td> <td> 0.130</td> <td>  -28.697</td> <td>    3.688</td>\n",
       "</tr>\n",
       "<tr>\n",
       "  <th>Industry_TV Broadcast & Cable Networks</th>            <td>   12.7855</td> <td>   16.423</td> <td>    0.778</td> <td> 0.437</td> <td>  -19.469</td> <td>   45.040</td>\n",
       "</tr>\n",
       "<tr>\n",
       "  <th>Industry_Telecommunications Manufacturing</th>         <td>    2.8474</td> <td>   14.302</td> <td>    0.199</td> <td> 0.842</td> <td>  -25.241</td> <td>   30.936</td>\n",
       "</tr>\n",
       "<tr>\n",
       "  <th>Industry_Telecommunications Services</th>              <td>    2.2060</td> <td>   11.761</td> <td>    0.188</td> <td> 0.851</td> <td>  -20.892</td> <td>   25.304</td>\n",
       "</tr>\n",
       "<tr>\n",
       "  <th>Industry_Transportation Equipment Manufacturing</th>   <td>  -18.7886</td> <td>   24.795</td> <td>   -0.758</td> <td> 0.449</td> <td>  -67.484</td> <td>   29.907</td>\n",
       "</tr>\n",
       "<tr>\n",
       "  <th>Industry_Transportation Management</th>                <td>  -25.4117</td> <td>   14.639</td> <td>   -1.736</td> <td> 0.083</td> <td>  -54.162</td> <td>    3.339</td>\n",
       "</tr>\n",
       "<tr>\n",
       "  <th>Industry_Travel Agencies</th>                          <td>   -5.3160</td> <td>    5.512</td> <td>   -0.964</td> <td> 0.335</td> <td>  -16.142</td> <td>    5.510</td>\n",
       "</tr>\n",
       "<tr>\n",
       "  <th>Industry_Trucking</th>                                 <td>   27.4648</td> <td>   20.740</td> <td>    1.324</td> <td> 0.186</td> <td>  -13.267</td> <td>   68.196</td>\n",
       "</tr>\n",
       "<tr>\n",
       "  <th>Industry_Video Games</th>                              <td>  -33.7511</td> <td>   15.135</td> <td>   -2.230</td> <td> 0.026</td> <td>  -63.475</td> <td>   -4.027</td>\n",
       "</tr>\n",
       "<tr>\n",
       "  <th>Industry_Wholesale</th>                                <td>    8.9769</td> <td>   13.547</td> <td>    0.663</td> <td> 0.508</td> <td>  -17.629</td> <td>   35.583</td>\n",
       "</tr>\n",
       "<tr>\n",
       "  <th>Sector_-1</th>                                         <td>    7.9794</td> <td>    8.316</td> <td>    0.959</td> <td> 0.338</td> <td>   -8.353</td> <td>   24.312</td>\n",
       "</tr>\n",
       "<tr>\n",
       "  <th>Sector_Accounting & Legal</th>                         <td>    3.4444</td> <td>   14.066</td> <td>    0.245</td> <td> 0.807</td> <td>  -24.180</td> <td>   31.069</td>\n",
       "</tr>\n",
       "<tr>\n",
       "  <th>Sector_Aerospace & Defense</th>                        <td>    4.7617</td> <td>    3.260</td> <td>    1.461</td> <td> 0.145</td> <td>   -1.640</td> <td>   11.163</td>\n",
       "</tr>\n",
       "<tr>\n",
       "  <th>Sector_Agriculture & Forestry</th>                     <td>   -1.8537</td> <td>   13.215</td> <td>   -0.140</td> <td> 0.888</td> <td>  -27.808</td> <td>   24.101</td>\n",
       "</tr>\n",
       "<tr>\n",
       "  <th>Sector_Arts, Entertainment & Recreation</th>           <td>   -8.0688</td> <td>    6.812</td> <td>   -1.184</td> <td> 0.237</td> <td>  -21.448</td> <td>    5.311</td>\n",
       "</tr>\n",
       "<tr>\n",
       "  <th>Sector_Biotech & Pharmaceuticals</th>                  <td>    5.1103</td> <td>    2.228</td> <td>    2.293</td> <td> 0.022</td> <td>    0.734</td> <td>    9.486</td>\n",
       "</tr>\n",
       "<tr>\n",
       "  <th>Sector_Business Services</th>                          <td>   -1.0874</td> <td>    4.355</td> <td>   -0.250</td> <td> 0.803</td> <td>   -9.640</td> <td>    7.465</td>\n",
       "</tr>\n",
       "<tr>\n",
       "  <th>Sector_Construction, Repair & Maintenance</th>         <td>  -12.4844</td> <td>   11.067</td> <td>   -1.128</td> <td> 0.260</td> <td>  -34.220</td> <td>    9.251</td>\n",
       "</tr>\n",
       "<tr>\n",
       "  <th>Sector_Consumer Services</th>                          <td>   -4.1818</td> <td>    9.903</td> <td>   -0.422</td> <td> 0.673</td> <td>  -23.631</td> <td>   15.267</td>\n",
       "</tr>\n",
       "<tr>\n",
       "  <th>Sector_Education</th>                                  <td>   -2.8232</td> <td>    7.233</td> <td>   -0.390</td> <td> 0.696</td> <td>  -17.029</td> <td>   11.383</td>\n",
       "</tr>\n",
       "<tr>\n",
       "  <th>Sector_Finance</th>                                    <td>    9.9786</td> <td>    4.731</td> <td>    2.109</td> <td> 0.035</td> <td>    0.688</td> <td>   19.270</td>\n",
       "</tr>\n",
       "<tr>\n",
       "  <th>Sector_Government</th>                                 <td>    4.9213</td> <td>    5.505</td> <td>    0.894</td> <td> 0.372</td> <td>   -5.889</td> <td>   15.732</td>\n",
       "</tr>\n",
       "<tr>\n",
       "  <th>Sector_Health Care</th>                                <td>    7.9951</td> <td>    3.032</td> <td>    2.637</td> <td> 0.009</td> <td>    2.041</td> <td>   13.950</td>\n",
       "</tr>\n",
       "<tr>\n",
       "  <th>Sector_Information Technology</th>                     <td>    9.8798</td> <td>    2.885</td> <td>    3.424</td> <td> 0.001</td> <td>    4.213</td> <td>   15.546</td>\n",
       "</tr>\n",
       "<tr>\n",
       "  <th>Sector_Insurance</th>                                  <td>    3.5512</td> <td>    4.112</td> <td>    0.864</td> <td> 0.388</td> <td>   -4.525</td> <td>   11.627</td>\n",
       "</tr>\n",
       "<tr>\n",
       "  <th>Sector_Manufacturing</th>                              <td>   -1.6949</td> <td>    7.318</td> <td>   -0.232</td> <td> 0.817</td> <td>  -16.066</td> <td>   12.677</td>\n",
       "</tr>\n",
       "<tr>\n",
       "  <th>Sector_Media</th>                                      <td>   14.1405</td> <td>    9.127</td> <td>    1.549</td> <td> 0.122</td> <td>   -3.784</td> <td>   32.065</td>\n",
       "</tr>\n",
       "<tr>\n",
       "  <th>Sector_Mining & Metals</th>                            <td>   -4.7089</td> <td>   11.265</td> <td>   -0.418</td> <td> 0.676</td> <td>  -26.834</td> <td>   17.416</td>\n",
       "</tr>\n",
       "<tr>\n",
       "  <th>Sector_Non-Profit</th>                                 <td>   10.3844</td> <td>    9.278</td> <td>    1.119</td> <td> 0.263</td> <td>   -7.837</td> <td>   28.606</td>\n",
       "</tr>\n",
       "<tr>\n",
       "  <th>Sector_Oil, Gas, Energy & Utilities</th>               <td>   -7.8988</td> <td>    8.105</td> <td>   -0.975</td> <td> 0.330</td> <td>  -23.817</td> <td>    8.019</td>\n",
       "</tr>\n",
       "<tr>\n",
       "  <th>Sector_Real Estate</th>                                <td>   -2.9263</td> <td>    5.172</td> <td>   -0.566</td> <td> 0.572</td> <td>  -13.083</td> <td>    7.230</td>\n",
       "</tr>\n",
       "<tr>\n",
       "  <th>Sector_Retail</th>                                     <td>    5.7526</td> <td>    7.559</td> <td>    0.761</td> <td> 0.447</td> <td>   -9.092</td> <td>   20.597</td>\n",
       "</tr>\n",
       "<tr>\n",
       "  <th>Sector_Telecommunications</th>                         <td>    5.0534</td> <td>    8.179</td> <td>    0.618</td> <td> 0.537</td> <td>  -11.009</td> <td>   21.116</td>\n",
       "</tr>\n",
       "<tr>\n",
       "  <th>Sector_Transportation & Logistics</th>                 <td>    0.1954</td> <td>    8.483</td> <td>    0.023</td> <td> 0.982</td> <td>  -16.465</td> <td>   16.856</td>\n",
       "</tr>\n",
       "<tr>\n",
       "  <th>Sector_Travel & Tourism</th>                           <td>   -5.3160</td> <td>    5.512</td> <td>   -0.964</td> <td> 0.335</td> <td>  -16.142</td> <td>    5.510</td>\n",
       "</tr>\n",
       "<tr>\n",
       "  <th>Revenue_$1 to $2 billion (USD)</th>                    <td>    3.5812</td> <td>    5.108</td> <td>    0.701</td> <td> 0.483</td> <td>   -6.450</td> <td>   13.612</td>\n",
       "</tr>\n",
       "<tr>\n",
       "  <th>Revenue_$1 to $5 million (USD)</th>                    <td>   -9.8916</td> <td>   11.445</td> <td>   -0.864</td> <td> 0.388</td> <td>  -32.368</td> <td>   12.585</td>\n",
       "</tr>\n",
       "<tr>\n",
       "  <th>Revenue_$10 to $25 million (USD)</th>                  <td>   -6.4406</td> <td>    5.473</td> <td>   -1.177</td> <td> 0.240</td> <td>  -17.190</td> <td>    4.308</td>\n",
       "</tr>\n",
       "<tr>\n",
       "  <th>Revenue_$10+ billion (USD)</th>                        <td>   16.7852</td> <td>    6.785</td> <td>    2.474</td> <td> 0.014</td> <td>    3.460</td> <td>   30.110</td>\n",
       "</tr>\n",
       "<tr>\n",
       "  <th>Revenue_$100 to $500 million (USD)</th>                <td>   -4.6667</td> <td>    4.267</td> <td>   -1.094</td> <td> 0.275</td> <td>  -13.046</td> <td>    3.713</td>\n",
       "</tr>\n",
       "<tr>\n",
       "  <th>Revenue_$2 to $5 billion (USD)</th>                    <td>   -1.4498</td> <td>    6.592</td> <td>   -0.220</td> <td> 0.826</td> <td>  -14.397</td> <td>   11.497</td>\n",
       "</tr>\n",
       "<tr>\n",
       "  <th>Revenue_$25 to $50 million (USD)</th>                  <td>   -1.6803</td> <td>    5.588</td> <td>   -0.301</td> <td> 0.764</td> <td>  -12.655</td> <td>    9.295</td>\n",
       "</tr>\n",
       "<tr>\n",
       "  <th>Revenue_$5 to $10 billion (USD)</th>                   <td>    3.6163</td> <td>    8.307</td> <td>    0.435</td> <td> 0.663</td> <td>  -12.698</td> <td>   19.931</td>\n",
       "</tr>\n",
       "<tr>\n",
       "  <th>Revenue_$5 to $10 million (USD)</th>                   <td>   30.3213</td> <td>    8.757</td> <td>    3.463</td> <td> 0.001</td> <td>   13.123</td> <td>   47.520</td>\n",
       "</tr>\n",
       "<tr>\n",
       "  <th>Revenue_$50 to $100 million (USD)</th>                 <td>    4.6814</td> <td>    5.260</td> <td>    0.890</td> <td> 0.374</td> <td>   -5.649</td> <td>   15.012</td>\n",
       "</tr>\n",
       "<tr>\n",
       "  <th>Revenue_$500 million to $1 billion (USD)</th>          <td>   -4.4239</td> <td>    5.548</td> <td>   -0.797</td> <td> 0.426</td> <td>  -15.321</td> <td>    6.473</td>\n",
       "</tr>\n",
       "<tr>\n",
       "  <th>Revenue_-1</th>                                        <td>   13.3254</td> <td>    9.039</td> <td>    1.474</td> <td> 0.141</td> <td>   -4.427</td> <td>   31.078</td>\n",
       "</tr>\n",
       "<tr>\n",
       "  <th>Revenue_Less than $1 million (USD)</th>                <td>   -4.5175</td> <td>   15.897</td> <td>   -0.284</td> <td> 0.776</td> <td>  -35.739</td> <td>   26.704</td>\n",
       "</tr>\n",
       "<tr>\n",
       "  <th>Revenue_Unknown / Non-Applicable</th>                  <td>    0.8632</td> <td>    3.202</td> <td>    0.270</td> <td> 0.788</td> <td>   -5.426</td> <td>    7.153</td>\n",
       "</tr>\n",
       "<tr>\n",
       "  <th>job_state_AL</th>                                      <td>  -16.5894</td> <td>   10.826</td> <td>   -1.532</td> <td> 0.126</td> <td>  -37.852</td> <td>    4.673</td>\n",
       "</tr>\n",
       "<tr>\n",
       "  <th>job_state_AZ</th>                                      <td>  -16.7110</td> <td>    9.077</td> <td>   -1.841</td> <td> 0.066</td> <td>  -34.537</td> <td>    1.115</td>\n",
       "</tr>\n",
       "<tr>\n",
       "  <th>job_state_CA</th>                                      <td>   27.4301</td> <td>    3.291</td> <td>    8.334</td> <td> 0.000</td> <td>   20.966</td> <td>   33.894</td>\n",
       "</tr>\n",
       "<tr>\n",
       "  <th>job_state_CO</th>                                      <td>    6.5299</td> <td>    8.699</td> <td>    0.751</td> <td> 0.453</td> <td>  -10.554</td> <td>   23.614</td>\n",
       "</tr>\n",
       "<tr>\n",
       "  <th>job_state_CT</th>                                      <td>  -20.4510</td> <td>   11.978</td> <td>   -1.707</td> <td> 0.088</td> <td>  -43.975</td> <td>    3.073</td>\n",
       "</tr>\n",
       "<tr>\n",
       "  <th>job_state_DC</th>                                      <td>   12.3786</td> <td>    8.516</td> <td>    1.454</td> <td> 0.147</td> <td>   -4.347</td> <td>   29.104</td>\n",
       "</tr>\n",
       "<tr>\n",
       "  <th>job_state_DE</th>                                      <td>    6.5156</td> <td>   14.527</td> <td>    0.449</td> <td> 0.654</td> <td>  -22.014</td> <td>   35.045</td>\n",
       "</tr>\n",
       "<tr>\n",
       "  <th>job_state_FL</th>                                      <td>  -19.0917</td> <td>    7.979</td> <td>   -2.393</td> <td> 0.017</td> <td>  -34.761</td> <td>   -3.422</td>\n",
       "</tr>\n",
       "<tr>\n",
       "  <th>job_state_GA</th>                                      <td>  -17.0435</td> <td>   10.576</td> <td>   -1.612</td> <td> 0.108</td> <td>  -37.814</td> <td>    3.727</td>\n",
       "</tr>\n",
       "<tr>\n",
       "  <th>job_state_IA</th>                                      <td>    4.4692</td> <td>   13.080</td> <td>    0.342</td> <td> 0.733</td> <td>  -21.219</td> <td>   30.158</td>\n",
       "</tr>\n",
       "<tr>\n",
       "  <th>job_state_ID</th>                                      <td>  -18.3562</td> <td>   19.049</td> <td>   -0.964</td> <td> 0.336</td> <td>  -55.767</td> <td>   19.054</td>\n",
       "</tr>\n",
       "<tr>\n",
       "  <th>job_state_IL</th>                                      <td>   21.4822</td> <td>    5.100</td> <td>    4.212</td> <td> 0.000</td> <td>   11.466</td> <td>   31.498</td>\n",
       "</tr>\n",
       "<tr>\n",
       "  <th>job_state_IN</th>                                      <td>  -13.0699</td> <td>    9.156</td> <td>   -1.427</td> <td> 0.154</td> <td>  -31.052</td> <td>    4.912</td>\n",
       "</tr>\n",
       "<tr>\n",
       "  <th>job_state_KS</th>                                      <td>  -12.5045</td> <td>    8.245</td> <td>   -1.517</td> <td> 0.130</td> <td>  -28.697</td> <td>    3.688</td>\n",
       "</tr>\n",
       "<tr>\n",
       "  <th>job_state_KY</th>                                      <td>   20.7506</td> <td>   12.920</td> <td>    1.606</td> <td> 0.109</td> <td>   -4.625</td> <td>   46.126</td>\n",
       "</tr>\n",
       "<tr>\n",
       "  <th>job_state_LA</th>                                      <td>   -7.5443</td> <td>   13.737</td> <td>   -0.549</td> <td> 0.583</td> <td>  -34.524</td> <td>   19.435</td>\n",
       "</tr>\n",
       "<tr>\n",
       "  <th>job_state_MA</th>                                      <td>    2.3468</td> <td>    4.093</td> <td>    0.573</td> <td> 0.567</td> <td>   -5.691</td> <td>   10.385</td>\n",
       "</tr>\n",
       "<tr>\n",
       "  <th>job_state_MD</th>                                      <td>    3.8664</td> <td>    5.240</td> <td>    0.738</td> <td> 0.461</td> <td>   -6.424</td> <td>   14.157</td>\n",
       "</tr>\n",
       "<tr>\n",
       "  <th>job_state_MI</th>                                      <td>   14.2469</td> <td>   12.583</td> <td>    1.132</td> <td> 0.258</td> <td>  -10.466</td> <td>   38.960</td>\n",
       "</tr>\n",
       "<tr>\n",
       "  <th>job_state_MN</th>                                      <td>    3.9208</td> <td>   18.044</td> <td>    0.217</td> <td> 0.828</td> <td>  -31.518</td> <td>   39.359</td>\n",
       "</tr>\n",
       "<tr>\n",
       "  <th>job_state_MO</th>                                      <td>   15.7437</td> <td>   10.420</td> <td>    1.511</td> <td> 0.131</td> <td>   -4.722</td> <td>   36.209</td>\n",
       "</tr>\n",
       "<tr>\n",
       "  <th>job_state_NC</th>                                      <td>   -6.0421</td> <td>    7.094</td> <td>   -0.852</td> <td> 0.395</td> <td>  -19.975</td> <td>    7.891</td>\n",
       "</tr>\n",
       "<tr>\n",
       "  <th>job_state_NE</th>                                      <td>  -15.1357</td> <td>   14.401</td> <td>   -1.051</td> <td> 0.294</td> <td>  -43.418</td> <td>   13.147</td>\n",
       "</tr>\n",
       "<tr>\n",
       "  <th>job_state_NJ</th>                                      <td>   11.7902</td> <td>    7.077</td> <td>    1.666</td> <td> 0.096</td> <td>   -2.108</td> <td>   25.688</td>\n",
       "</tr>\n",
       "<tr>\n",
       "  <th>job_state_NM</th>                                      <td>  -28.0955</td> <td>   15.196</td> <td>   -1.849</td> <td> 0.065</td> <td>  -57.941</td> <td>    1.750</td>\n",
       "</tr>\n",
       "<tr>\n",
       "  <th>job_state_NY</th>                                      <td>    5.2788</td> <td>    4.212</td> <td>    1.253</td> <td> 0.211</td> <td>   -2.994</td> <td>   13.551</td>\n",
       "</tr>\n",
       "<tr>\n",
       "  <th>job_state_OH</th>                                      <td>   -4.8710</td> <td>    8.614</td> <td>   -0.565</td> <td> 0.572</td> <td>  -21.789</td> <td>   12.047</td>\n",
       "</tr>\n",
       "<tr>\n",
       "  <th>job_state_OR</th>                                      <td>    7.1788</td> <td>   13.213</td> <td>    0.543</td> <td> 0.587</td> <td>  -18.771</td> <td>   33.128</td>\n",
       "</tr>\n",
       "<tr>\n",
       "  <th>job_state_PA</th>                                      <td>    6.5461</td> <td>    7.525</td> <td>    0.870</td> <td> 0.385</td> <td>   -8.233</td> <td>   21.325</td>\n",
       "</tr>\n",
       "<tr>\n",
       "  <th>job_state_RI</th>                                      <td>   29.2861</td> <td>   25.802</td> <td>    1.135</td> <td> 0.257</td> <td>  -21.388</td> <td>   79.960</td>\n",
       "</tr>\n",
       "<tr>\n",
       "  <th>job_state_SC</th>                                      <td>   25.8749</td> <td>   30.588</td> <td>    0.846</td> <td> 0.398</td> <td>  -34.198</td> <td>   85.948</td>\n",
       "</tr>\n",
       "<tr>\n",
       "  <th>job_state_TN</th>                                      <td>   -3.4140</td> <td>    9.831</td> <td>   -0.347</td> <td> 0.729</td> <td>  -22.722</td> <td>   15.894</td>\n",
       "</tr>\n",
       "<tr>\n",
       "  <th>job_state_TX</th>                                      <td>    1.4411</td> <td>    6.013</td> <td>    0.240</td> <td> 0.811</td> <td>  -10.368</td> <td>   13.250</td>\n",
       "</tr>\n",
       "<tr>\n",
       "  <th>job_state_UT</th>                                      <td>    6.0160</td> <td>   15.471</td> <td>    0.389</td> <td> 0.698</td> <td>  -24.368</td> <td>   36.400</td>\n",
       "</tr>\n",
       "<tr>\n",
       "  <th>job_state_VA</th>                                      <td>   -2.5808</td> <td>    5.275</td> <td>   -0.489</td> <td> 0.625</td> <td>  -12.940</td> <td>    7.778</td>\n",
       "</tr>\n",
       "<tr>\n",
       "  <th>job_state_WA</th>                                      <td>   10.7145</td> <td>    8.496</td> <td>    1.261</td> <td> 0.208</td> <td>   -5.971</td> <td>   27.400</td>\n",
       "</tr>\n",
       "<tr>\n",
       "  <th>job_state_WI</th>                                      <td>   -2.2030</td> <td>   10.563</td> <td>   -0.209</td> <td> 0.835</td> <td>  -22.947</td> <td>   18.541</td>\n",
       "</tr>\n",
       "<tr>\n",
       "  <th>job_simp_analyst</th>                                  <td>  -26.3868</td> <td>    4.313</td> <td>   -6.119</td> <td> 0.000</td> <td>  -34.856</td> <td>  -17.917</td>\n",
       "</tr>\n",
       "<tr>\n",
       "  <th>job_simp_data engineer</th>                            <td>    6.2525</td> <td>    4.145</td> <td>    1.509</td> <td> 0.132</td> <td>   -1.888</td> <td>   14.393</td>\n",
       "</tr>\n",
       "<tr>\n",
       "  <th>job_simp_data scientist</th>                           <td>   12.4853</td> <td>    3.585</td> <td>    3.483</td> <td> 0.001</td> <td>    5.445</td> <td>   19.526</td>\n",
       "</tr>\n",
       "<tr>\n",
       "  <th>job_simp_director</th>                                 <td>   33.8124</td> <td>   10.571</td> <td>    3.199</td> <td> 0.001</td> <td>   13.052</td> <td>   54.573</td>\n",
       "</tr>\n",
       "<tr>\n",
       "  <th>job_simp_manager</th>                                  <td>   -7.4793</td> <td>   16.297</td> <td>   -0.459</td> <td> 0.646</td> <td>  -39.486</td> <td>   24.528</td>\n",
       "</tr>\n",
       "<tr>\n",
       "  <th>job_simp_mle</th>                                      <td>   27.1035</td> <td>    6.778</td> <td>    3.999</td> <td> 0.000</td> <td>   13.792</td> <td>   40.415</td>\n",
       "</tr>\n",
       "<tr>\n",
       "  <th>job_simp_na</th>                                       <td>   -7.8568</td> <td>    4.070</td> <td>   -1.930</td> <td> 0.054</td> <td>  -15.851</td> <td>    0.137</td>\n",
       "</tr>\n",
       "<tr>\n",
       "  <th>job_simp_research scientist</th>                       <td>    2.1730</td> <td>    7.289</td> <td>    0.298</td> <td> 0.766</td> <td>  -12.142</td> <td>   16.488</td>\n",
       "</tr>\n",
       "<tr>\n",
       "  <th>seniority_jr</th>                                      <td>    9.5299</td> <td>   11.472</td> <td>    0.831</td> <td> 0.406</td> <td>  -13.002</td> <td>   32.061</td>\n",
       "</tr>\n",
       "<tr>\n",
       "  <th>seniority_na</th>                                      <td>    3.7946</td> <td>    4.597</td> <td>    0.825</td> <td> 0.409</td> <td>   -5.234</td> <td>   12.823</td>\n",
       "</tr>\n",
       "<tr>\n",
       "  <th>seniority_senior</th>                                  <td>   26.7792</td> <td>    4.873</td> <td>    5.495</td> <td> 0.000</td> <td>   17.209</td> <td>   36.350</td>\n",
       "</tr>\n",
       "</table>\n",
       "<table class=\"simpletable\">\n",
       "<tr>\n",
       "  <th>Omnibus:</th>       <td>94.090</td> <th>  Durbin-Watson:     </th> <td>   2.072</td>\n",
       "</tr>\n",
       "<tr>\n",
       "  <th>Prob(Omnibus):</th> <td> 0.000</td> <th>  Jarque-Bera (JB):  </th> <td> 307.056</td>\n",
       "</tr>\n",
       "<tr>\n",
       "  <th>Skew:</th>          <td> 0.591</td> <th>  Prob(JB):          </th> <td>2.11e-67</td>\n",
       "</tr>\n",
       "<tr>\n",
       "  <th>Kurtosis:</th>      <td> 5.922</td> <th>  Cond. No.          </th> <td>1.71e+19</td>\n",
       "</tr>\n",
       "</table><br/><br/>Warnings:<br/>[1] Standard Errors assume that the covariance matrix of the errors is correctly specified.<br/>[2] The smallest eigenvalue is 4.48e-29. This might indicate that there are<br/>strong multicollinearity problems or that the design matrix is singular."
      ],
      "text/plain": [
       "<class 'statsmodels.iolib.summary.Summary'>\n",
       "\"\"\"\n",
       "                            OLS Regression Results                            \n",
       "==============================================================================\n",
       "Dep. Variable:             avg_salary   R-squared:                       0.662\n",
       "Model:                            OLS   Adj. R-squared:                  0.579\n",
       "Method:                 Least Squares   F-statistic:                     7.985\n",
       "Date:                Sat, 13 Nov 2021   Prob (F-statistic):           7.02e-76\n",
       "Time:                        17:03:27   Log-Likelihood:                -3340.0\n",
       "No. Observations:                 742   AIC:                             6974.\n",
       "Df Residuals:                     595   BIC:                             7652.\n",
       "Df Model:                         146                                         \n",
       "Covariance Type:            nonrobust                                         \n",
       "=====================================================================================================================\n",
       "                                                        coef    std err          t      P>|t|      [0.025      0.975]\n",
       "---------------------------------------------------------------------------------------------------------------------\n",
       "const                                                40.1037      6.850      5.854      0.000      26.650      53.558\n",
       "Rating                                                4.4274      2.007      2.206      0.028       0.486       8.369\n",
       "hourly                                              -15.4246      9.902     -1.558      0.120     -34.873       4.023\n",
       "employer_provided                                    29.4233     12.111      2.429      0.015       5.637      53.210\n",
       "same_state                                            3.8104      2.772      1.375      0.170      -1.634       9.255\n",
       "age                                                   0.0235      0.032      0.744      0.457      -0.039       0.086\n",
       "spark                                                -1.9053      3.035     -0.628      0.530      -7.866       4.055\n",
       "aws                                                   2.8788      2.972      0.969      0.333      -2.957       8.715\n",
       "excel                                                -1.0249      2.381     -0.430      0.667      -5.702       3.652\n",
       "desc_len                                             -0.0002      0.001     -0.278      0.781      -0.002       0.001\n",
       "num_comp                                              2.4725      0.909      2.720      0.007       0.688       4.257\n",
       "azure                                               -10.3351      4.834     -2.138      0.033     -19.829      -0.841\n",
       "SQL                                                  -3.8663      2.765     -1.398      0.162      -9.296       1.563\n",
       "tableau_yn                                           -3.6818      3.211     -1.147      0.252      -9.988       2.624\n",
       "python_yn                                             8.9286      2.767      3.227      0.001       3.495      14.362\n",
       "Size_-1                                              13.3254      9.039      1.474      0.141      -4.427      31.078\n",
       "Size_1 to 50 employees                               -0.0837      6.822     -0.012      0.990     -13.481      13.314\n",
       "Size_10000+ employees                                -2.5236      6.083     -0.415      0.678     -14.470       9.423\n",
       "Size_1001 to 5000 employees                           6.6335      4.057      1.635      0.103      -1.334      14.601\n",
       "Size_201 to 500 employees                             2.8552      4.091      0.698      0.485      -5.179      10.889\n",
       "Size_5001 to 10000 employees                         -4.9921      5.733     -0.871      0.384     -16.252       6.267\n",
       "Size_501 to 1000 employees                            3.4633      4.261      0.813      0.417      -4.905      11.831\n",
       "Size_51 to 200 employees                              5.1990      4.628      1.123      0.262      -3.890      14.288\n",
       "Size_Unknown                                         16.2267     14.832      1.094      0.274     -12.902      45.356\n",
       "Type of ownership_-1                                 13.3254      9.039      1.474      0.141      -4.427      31.078\n",
       "Type of ownership_College / University                0.2626     18.759      0.014      0.989     -36.580      37.105\n",
       "Type of ownership_Company - Private                   6.7868      5.451      1.245      0.214      -3.919      17.492\n",
       "Type of ownership_Company - Public                   11.1118      5.949      1.868      0.062      -0.572      22.796\n",
       "Type of ownership_Government                         -8.6468     16.111     -0.537      0.592     -40.288      22.994\n",
       "Type of ownership_Hospital                          -12.0079     10.567     -1.136      0.256     -32.761       8.745\n",
       "Type of ownership_Nonprofit Organization             -8.6707      7.103     -1.221      0.223     -22.621       5.279\n",
       "Type of ownership_Other Organization                 -0.3719     14.950     -0.025      0.980     -29.733      28.989\n",
       "Type of ownership_School / School District           -7.0703     25.014     -0.283      0.778     -56.196      42.055\n",
       "Type of ownership_Subsidiary or Business Segment      8.4269      7.194      1.171      0.242      -5.702      22.556\n",
       "Type of ownership_Unknown                            36.9578     29.847      1.238      0.216     -21.660      95.576\n",
       "Industry_-1                                           7.9794      8.316      0.959      0.338      -8.353      24.312\n",
       "Industry_Accounting                                   3.4444     14.066      0.245      0.807     -24.180      31.069\n",
       "Industry_Advertising & Marketing                     13.7106      6.300      2.176      0.030       1.338      26.083\n",
       "Industry_Aerospace & Defense                          4.7617      3.260      1.461      0.145      -1.640      11.163\n",
       "Industry_Architectural & Engineering Services       -36.8932     16.785     -2.198      0.028     -69.859      -3.928\n",
       "Industry_Auctions & Galleries                        12.5598     23.948      0.524      0.600     -34.473      59.592\n",
       "Industry_Banks & Credit Unions                      -19.7045      8.439     -2.335      0.020     -36.278      -3.131\n",
       "Industry_Beauty & Personal Accessories Stores        11.7308     22.474      0.522      0.602     -32.407      55.869\n",
       "Industry_Biotech & Pharmaceuticals                    5.1103      2.228      2.293      0.022       0.734       9.486\n",
       "Industry_Brokerage Services                          28.5267     16.211      1.760      0.079      -3.311      60.364\n",
       "Industry_Colleges & Universities                     12.8188     13.570      0.945      0.345     -13.832      39.470\n",
       "Industry_Computer Hardware & Software                -2.1087      3.388     -0.622      0.534      -8.763       4.545\n",
       "Industry_Construction                               -12.4844     11.067     -1.128      0.260     -34.220       9.251\n",
       "Industry_Consulting                                  15.2192      6.424      2.369      0.018       2.602      27.836\n",
       "Industry_Consumer Product Rental                     -1.4597     13.571     -0.108      0.914     -28.113      25.194\n",
       "Industry_Consumer Products Manufacturing             12.7064     10.318      1.232      0.219      -7.557      32.970\n",
       "Industry_Department, Clothing, & Shoe Stores          4.5756     12.091      0.378      0.705     -19.171      28.322\n",
       "Industry_Education Training Services                -24.3960     13.110     -1.861      0.063     -50.144       1.352\n",
       "Industry_Energy                                      -7.8988      8.105     -0.975      0.330     -23.817       8.019\n",
       "Industry_Enterprise Software & Network Solutions     10.0534      3.785      2.656      0.008       2.620      17.487\n",
       "Industry_Farm Support Services                       -1.8537     13.215     -0.140      0.888     -27.808      24.101\n",
       "Industry_Federal Agencies                             4.9213      5.505      0.894      0.372      -5.889      15.732\n",
       "Industry_Financial Analytics & Research               0.1632      9.596      0.017      0.986     -18.682      19.009\n",
       "Industry_Financial Transaction Processing           -14.5140     13.522     -1.073      0.284     -41.071      12.043\n",
       "Industry_Food & Beverage Manufacturing              -13.6639     12.191     -1.121      0.263     -37.607      10.279\n",
       "Industry_Gambling                                    -8.0688      6.812     -1.184      0.237     -21.448       5.311\n",
       "Industry_Gas Stations                               -29.0683     16.455     -1.767      0.078     -61.385       3.249\n",
       "Industry_Health Care Products Manufacturing          39.5854     23.568      1.680      0.094      -6.702      85.872\n",
       "Industry_Health Care Services & Hospitals             7.9951      3.032      2.637      0.009       2.041      13.950\n",
       "Industry_Health, Beauty, & Fitness                   -2.7221     18.189     -0.150      0.881     -38.445      33.001\n",
       "Industry_IT Services                                  3.7182      3.808      0.976      0.329      -3.762      11.198\n",
       "Industry_Industrial Manufacturing                   -21.5341     13.446     -1.602      0.110     -47.942       4.874\n",
       "Industry_Insurance Agencies & Brokerages             -6.2966      7.296     -0.863      0.388     -20.625       8.032\n",
       "Industry_Insurance Carriers                           9.8478      4.634      2.125      0.034       0.747      18.949\n",
       "Industry_Internet                                    -1.7830      4.833     -0.369      0.712     -11.276       7.710\n",
       "Industry_Investment Banking & Asset Management       31.5427     12.605      2.502      0.013       6.787      56.298\n",
       "Industry_K-12 Education                               8.7541     15.423      0.568      0.571     -21.537      39.045\n",
       "Industry_Lending                                     -3.5308     10.314     -0.342      0.732     -23.786      16.725\n",
       "Industry_Logistics & Supply Chain                    -1.8577     13.995     -0.133      0.894     -29.344      25.629\n",
       "Industry_Metals Brokers                              -4.5785     16.637     -0.275      0.783     -37.252      28.095\n",
       "Industry_Mining                                      -0.1304     19.070     -0.007      0.995     -37.582      37.321\n",
       "Industry_Motion Picture Production & Distribution    35.1060     20.490      1.713      0.087      -5.136      75.348\n",
       "Industry_Other Retail Stores                         36.0866     22.637      1.594      0.111      -8.372      80.545\n",
       "Industry_Real Estate                                 -2.9263      5.172     -0.566      0.572     -13.083       7.230\n",
       "Industry_Religious Organizations                     22.9005     14.299      1.602      0.110      -5.182      50.982\n",
       "Industry_Research & Development                      -7.7789      7.271     -1.070      0.285     -22.058       6.500\n",
       "Industry_Security Services                           12.5524     10.302      1.218      0.224      -7.680      32.785\n",
       "Industry_Social Assistance                          -12.5161     12.324     -1.016      0.310     -36.720      11.688\n",
       "Industry_Sporting Goods Stores                      -30.1318     18.522     -1.627      0.104     -66.509       6.245\n",
       "Industry_Staffing & Outsourcing                      -6.8743     11.238     -0.612      0.541     -28.945      15.197\n",
       "Industry_Stock Exchanges                            -12.5045      8.245     -1.517      0.130     -28.697       3.688\n",
       "Industry_TV Broadcast & Cable Networks               12.7855     16.423      0.778      0.437     -19.469      45.040\n",
       "Industry_Telecommunications Manufacturing             2.8474     14.302      0.199      0.842     -25.241      30.936\n",
       "Industry_Telecommunications Services                  2.2060     11.761      0.188      0.851     -20.892      25.304\n",
       "Industry_Transportation Equipment Manufacturing     -18.7886     24.795     -0.758      0.449     -67.484      29.907\n",
       "Industry_Transportation Management                  -25.4117     14.639     -1.736      0.083     -54.162       3.339\n",
       "Industry_Travel Agencies                             -5.3160      5.512     -0.964      0.335     -16.142       5.510\n",
       "Industry_Trucking                                    27.4648     20.740      1.324      0.186     -13.267      68.196\n",
       "Industry_Video Games                                -33.7511     15.135     -2.230      0.026     -63.475      -4.027\n",
       "Industry_Wholesale                                    8.9769     13.547      0.663      0.508     -17.629      35.583\n",
       "Sector_-1                                             7.9794      8.316      0.959      0.338      -8.353      24.312\n",
       "Sector_Accounting & Legal                             3.4444     14.066      0.245      0.807     -24.180      31.069\n",
       "Sector_Aerospace & Defense                            4.7617      3.260      1.461      0.145      -1.640      11.163\n",
       "Sector_Agriculture & Forestry                        -1.8537     13.215     -0.140      0.888     -27.808      24.101\n",
       "Sector_Arts, Entertainment & Recreation              -8.0688      6.812     -1.184      0.237     -21.448       5.311\n",
       "Sector_Biotech & Pharmaceuticals                      5.1103      2.228      2.293      0.022       0.734       9.486\n",
       "Sector_Business Services                             -1.0874      4.355     -0.250      0.803      -9.640       7.465\n",
       "Sector_Construction, Repair & Maintenance           -12.4844     11.067     -1.128      0.260     -34.220       9.251\n",
       "Sector_Consumer Services                             -4.1818      9.903     -0.422      0.673     -23.631      15.267\n",
       "Sector_Education                                     -2.8232      7.233     -0.390      0.696     -17.029      11.383\n",
       "Sector_Finance                                        9.9786      4.731      2.109      0.035       0.688      19.270\n",
       "Sector_Government                                     4.9213      5.505      0.894      0.372      -5.889      15.732\n",
       "Sector_Health Care                                    7.9951      3.032      2.637      0.009       2.041      13.950\n",
       "Sector_Information Technology                         9.8798      2.885      3.424      0.001       4.213      15.546\n",
       "Sector_Insurance                                      3.5512      4.112      0.864      0.388      -4.525      11.627\n",
       "Sector_Manufacturing                                 -1.6949      7.318     -0.232      0.817     -16.066      12.677\n",
       "Sector_Media                                         14.1405      9.127      1.549      0.122      -3.784      32.065\n",
       "Sector_Mining & Metals                               -4.7089     11.265     -0.418      0.676     -26.834      17.416\n",
       "Sector_Non-Profit                                    10.3844      9.278      1.119      0.263      -7.837      28.606\n",
       "Sector_Oil, Gas, Energy & Utilities                  -7.8988      8.105     -0.975      0.330     -23.817       8.019\n",
       "Sector_Real Estate                                   -2.9263      5.172     -0.566      0.572     -13.083       7.230\n",
       "Sector_Retail                                         5.7526      7.559      0.761      0.447      -9.092      20.597\n",
       "Sector_Telecommunications                             5.0534      8.179      0.618      0.537     -11.009      21.116\n",
       "Sector_Transportation & Logistics                     0.1954      8.483      0.023      0.982     -16.465      16.856\n",
       "Sector_Travel & Tourism                              -5.3160      5.512     -0.964      0.335     -16.142       5.510\n",
       "Revenue_$1 to $2 billion (USD)                        3.5812      5.108      0.701      0.483      -6.450      13.612\n",
       "Revenue_$1 to $5 million (USD)                       -9.8916     11.445     -0.864      0.388     -32.368      12.585\n",
       "Revenue_$10 to $25 million (USD)                     -6.4406      5.473     -1.177      0.240     -17.190       4.308\n",
       "Revenue_$10+ billion (USD)                           16.7852      6.785      2.474      0.014       3.460      30.110\n",
       "Revenue_$100 to $500 million (USD)                   -4.6667      4.267     -1.094      0.275     -13.046       3.713\n",
       "Revenue_$2 to $5 billion (USD)                       -1.4498      6.592     -0.220      0.826     -14.397      11.497\n",
       "Revenue_$25 to $50 million (USD)                     -1.6803      5.588     -0.301      0.764     -12.655       9.295\n",
       "Revenue_$5 to $10 billion (USD)                       3.6163      8.307      0.435      0.663     -12.698      19.931\n",
       "Revenue_$5 to $10 million (USD)                      30.3213      8.757      3.463      0.001      13.123      47.520\n",
       "Revenue_$50 to $100 million (USD)                     4.6814      5.260      0.890      0.374      -5.649      15.012\n",
       "Revenue_$500 million to $1 billion (USD)             -4.4239      5.548     -0.797      0.426     -15.321       6.473\n",
       "Revenue_-1                                           13.3254      9.039      1.474      0.141      -4.427      31.078\n",
       "Revenue_Less than $1 million (USD)                   -4.5175     15.897     -0.284      0.776     -35.739      26.704\n",
       "Revenue_Unknown / Non-Applicable                      0.8632      3.202      0.270      0.788      -5.426       7.153\n",
       "job_state_AL                                        -16.5894     10.826     -1.532      0.126     -37.852       4.673\n",
       "job_state_AZ                                        -16.7110      9.077     -1.841      0.066     -34.537       1.115\n",
       "job_state_CA                                         27.4301      3.291      8.334      0.000      20.966      33.894\n",
       "job_state_CO                                          6.5299      8.699      0.751      0.453     -10.554      23.614\n",
       "job_state_CT                                        -20.4510     11.978     -1.707      0.088     -43.975       3.073\n",
       "job_state_DC                                         12.3786      8.516      1.454      0.147      -4.347      29.104\n",
       "job_state_DE                                          6.5156     14.527      0.449      0.654     -22.014      35.045\n",
       "job_state_FL                                        -19.0917      7.979     -2.393      0.017     -34.761      -3.422\n",
       "job_state_GA                                        -17.0435     10.576     -1.612      0.108     -37.814       3.727\n",
       "job_state_IA                                          4.4692     13.080      0.342      0.733     -21.219      30.158\n",
       "job_state_ID                                        -18.3562     19.049     -0.964      0.336     -55.767      19.054\n",
       "job_state_IL                                         21.4822      5.100      4.212      0.000      11.466      31.498\n",
       "job_state_IN                                        -13.0699      9.156     -1.427      0.154     -31.052       4.912\n",
       "job_state_KS                                        -12.5045      8.245     -1.517      0.130     -28.697       3.688\n",
       "job_state_KY                                         20.7506     12.920      1.606      0.109      -4.625      46.126\n",
       "job_state_LA                                         -7.5443     13.737     -0.549      0.583     -34.524      19.435\n",
       "job_state_MA                                          2.3468      4.093      0.573      0.567      -5.691      10.385\n",
       "job_state_MD                                          3.8664      5.240      0.738      0.461      -6.424      14.157\n",
       "job_state_MI                                         14.2469     12.583      1.132      0.258     -10.466      38.960\n",
       "job_state_MN                                          3.9208     18.044      0.217      0.828     -31.518      39.359\n",
       "job_state_MO                                         15.7437     10.420      1.511      0.131      -4.722      36.209\n",
       "job_state_NC                                         -6.0421      7.094     -0.852      0.395     -19.975       7.891\n",
       "job_state_NE                                        -15.1357     14.401     -1.051      0.294     -43.418      13.147\n",
       "job_state_NJ                                         11.7902      7.077      1.666      0.096      -2.108      25.688\n",
       "job_state_NM                                        -28.0955     15.196     -1.849      0.065     -57.941       1.750\n",
       "job_state_NY                                          5.2788      4.212      1.253      0.211      -2.994      13.551\n",
       "job_state_OH                                         -4.8710      8.614     -0.565      0.572     -21.789      12.047\n",
       "job_state_OR                                          7.1788     13.213      0.543      0.587     -18.771      33.128\n",
       "job_state_PA                                          6.5461      7.525      0.870      0.385      -8.233      21.325\n",
       "job_state_RI                                         29.2861     25.802      1.135      0.257     -21.388      79.960\n",
       "job_state_SC                                         25.8749     30.588      0.846      0.398     -34.198      85.948\n",
       "job_state_TN                                         -3.4140      9.831     -0.347      0.729     -22.722      15.894\n",
       "job_state_TX                                          1.4411      6.013      0.240      0.811     -10.368      13.250\n",
       "job_state_UT                                          6.0160     15.471      0.389      0.698     -24.368      36.400\n",
       "job_state_VA                                         -2.5808      5.275     -0.489      0.625     -12.940       7.778\n",
       "job_state_WA                                         10.7145      8.496      1.261      0.208      -5.971      27.400\n",
       "job_state_WI                                         -2.2030     10.563     -0.209      0.835     -22.947      18.541\n",
       "job_simp_analyst                                    -26.3868      4.313     -6.119      0.000     -34.856     -17.917\n",
       "job_simp_data engineer                                6.2525      4.145      1.509      0.132      -1.888      14.393\n",
       "job_simp_data scientist                              12.4853      3.585      3.483      0.001       5.445      19.526\n",
       "job_simp_director                                    33.8124     10.571      3.199      0.001      13.052      54.573\n",
       "job_simp_manager                                     -7.4793     16.297     -0.459      0.646     -39.486      24.528\n",
       "job_simp_mle                                         27.1035      6.778      3.999      0.000      13.792      40.415\n",
       "job_simp_na                                          -7.8568      4.070     -1.930      0.054     -15.851       0.137\n",
       "job_simp_research scientist                           2.1730      7.289      0.298      0.766     -12.142      16.488\n",
       "seniority_jr                                          9.5299     11.472      0.831      0.406     -13.002      32.061\n",
       "seniority_na                                          3.7946      4.597      0.825      0.409      -5.234      12.823\n",
       "seniority_senior                                     26.7792      4.873      5.495      0.000      17.209      36.350\n",
       "==============================================================================\n",
       "Omnibus:                       94.090   Durbin-Watson:                   2.072\n",
       "Prob(Omnibus):                  0.000   Jarque-Bera (JB):              307.056\n",
       "Skew:                           0.591   Prob(JB):                     2.11e-67\n",
       "Kurtosis:                       5.922   Cond. No.                     1.71e+19\n",
       "==============================================================================\n",
       "\n",
       "Warnings:\n",
       "[1] Standard Errors assume that the covariance matrix of the errors is correctly specified.\n",
       "[2] The smallest eigenvalue is 4.48e-29. This might indicate that there are\n",
       "strong multicollinearity problems or that the design matrix is singular.\n",
       "\"\"\""
      ]
     },
     "execution_count": 19,
     "metadata": {},
     "output_type": "execute_result"
    }
   ],
   "source": [
    "model.fit().summary()"
   ]
  },
  {
   "cell_type": "code",
   "execution_count": 38,
   "metadata": {},
   "outputs": [],
   "source": [
    "from sklearn.linear_model import LinearRegression, Lasso\n",
    "from sklearn.model_selection import cross_val_score"
   ]
  },
  {
   "cell_type": "code",
   "execution_count": 22,
   "metadata": {},
   "outputs": [
    {
     "data": {
      "text/plain": [
       "LinearRegression(copy_X=True, fit_intercept=True, n_jobs=None, normalize=False)"
      ]
     },
     "execution_count": 22,
     "metadata": {},
     "output_type": "execute_result"
    }
   ],
   "source": [
    "# Multiple Linear Regression\n",
    "lm = LinearRegression()\n",
    "lm.fit(X_train, y_train)"
   ]
  },
  {
   "cell_type": "code",
   "execution_count": 37,
   "metadata": {},
   "outputs": [
    {
     "data": {
      "text/plain": [
       "-20.000067814129"
      ]
     },
     "execution_count": 37,
     "metadata": {},
     "output_type": "execute_result"
    }
   ],
   "source": [
    "np.mean(cross_val_score(lm, X_train, y_train, scoring = 'neg_mean_absolute_error', cv=5))"
   ]
  },
  {
   "cell_type": "code",
   "execution_count": 68,
   "metadata": {},
   "outputs": [
    {
     "data": {
      "text/plain": [
       "Lasso(alpha=0.02, copy_X=True, fit_intercept=True, max_iter=1000,\n",
       "      normalize=False, positive=False, precompute=False, random_state=None,\n",
       "      selection='cyclic', tol=0.0001, warm_start=False)"
      ]
     },
     "execution_count": 68,
     "metadata": {},
     "output_type": "execute_result"
    }
   ],
   "source": [
    "# Lasso Regeression\n",
    "lm_l = Lasso(alpha=0.02)\n",
    "lm_l.fit(X_train, y_train)"
   ]
  },
  {
   "cell_type": "code",
   "execution_count": 69,
   "metadata": {},
   "outputs": [
    {
     "data": {
      "text/plain": [
       "-19.566110454618244"
      ]
     },
     "execution_count": 69,
     "metadata": {},
     "output_type": "execute_result"
    }
   ],
   "source": [
    "np.mean(cross_val_score(lm_l, X_train, y_train, scoring = 'neg_mean_absolute_error', cv=5))"
   ]
  },
  {
   "cell_type": "code",
   "execution_count": 48,
   "metadata": {},
   "outputs": [],
   "source": [
    "alpha = []\n",
    "error = []\n",
    "for i in range(1, 100):\n",
    "    lml = Lasso(i/100)\n",
    "    alpha.append(i/100)\n",
    "    error.append(np.mean(cross_val_score(lml, X_train, y_train, scoring = 'neg_mean_absolute_error', cv=5)))"
   ]
  },
  {
   "cell_type": "code",
   "execution_count": 49,
   "metadata": {},
   "outputs": [
    {
     "data": {
      "text/plain": [
       "-19.566110454618244"
      ]
     },
     "execution_count": 49,
     "metadata": {},
     "output_type": "execute_result"
    }
   ],
   "source": [
    "max(error)"
   ]
  },
  {
   "cell_type": "code",
   "execution_count": 58,
   "metadata": {},
   "outputs": [
    {
     "data": {
      "text/plain": [
       "[<matplotlib.lines.Line2D at 0x22c8843bc08>]"
      ]
     },
     "execution_count": 58,
     "metadata": {},
     "output_type": "execute_result"
    },
    {
     "data": {
      "image/png": "[encoded data removed]",
      "text/plain": [
       "<Figure size 432x288 with 1 Axes>"
      ]
     },
     "metadata": {
      "needs_background": "light"
     },
     "output_type": "display_data"
    }
   ],
   "source": [
    "plt.plot(alpha, error)"
   ]
  },
  {
   "cell_type": "code",
   "execution_count": 57,
   "metadata": {},
   "outputs": [
    {
     "data": {
      "text/plain": [
       "0.02"
      ]
     },
     "execution_count": 57,
     "metadata": {},
     "output_type": "execute_result"
    }
   ],
   "source": [
    "alpha[error.index(max(error))]"
   ]
  },
  {
   "cell_type": "code",
   "execution_count": 59,
   "metadata": {},
   "outputs": [],
   "source": [
    "# RandomForests\n",
    "from sklearn.ensemble import RandomForestRegressor\n",
    "\n",
    "forest_reg = RandomForestRegressor()"
   ]
  },
  {
   "cell_type": "code",
   "execution_count": 60,
   "metadata": {},
   "outputs": [
    {
     "data": {
      "text/plain": [
       "-14.076471229169632"
      ]
     },
     "execution_count": 60,
     "metadata": {},
     "output_type": "execute_result"
    }
   ],
   "source": [
    "np.mean(cross_val_score(forest_reg, X_train, y_train, scoring = 'neg_mean_absolute_error', cv=5))"
   ]
  },
  {
   "cell_type": "code",
   "execution_count": 64,
   "metadata": {},
   "outputs": [
    {
     "data": {
      "text/plain": [
       "GridSearchCV(cv=5, error_score=nan,\n",
       "             estimator=RandomForestRegressor(bootstrap=True, ccp_alpha=0.0,\n",
       "                                             criterion='mse', max_depth=None,\n",
       "                                             max_features='auto',\n",
       "                                             max_leaf_nodes=None,\n",
       "                                             max_samples=None,\n",
       "                                             min_impurity_decrease=0.0,\n",
       "                                             min_impurity_split=None,\n",
       "                                             min_samples_leaf=1,\n",
       "                                             min_samples_split=2,\n",
       "                                             min_weight_fraction_leaf=0.0,\n",
       "                                             n_estimators=100, n_jobs=None,\n",
       "                                             oob_score=False, random_state=None,\n",
       "                                             verbose=0, warm_start=False),\n",
       "             iid='deprecated', n_jobs=None,\n",
       "             param_grid={'criterion': ['mae', 'mse'],\n",
       "                         'max_features': ['auto', 'sqrt', 'log2'],\n",
       "                         'n_estimators': range(10, 101, 10)},\n",
       "             pre_dispatch='2*n_jobs', refit=True, return_train_score=False,\n",
       "             scoring='neg_mean_absolute_error', verbose=0)"
      ]
     },
     "execution_count": 64,
     "metadata": {},
     "output_type": "execute_result"
    }
   ],
   "source": [
    "# train models for GridSearchCV\n",
    "from sklearn.model_selection import GridSearchCV\n",
    "\n",
    "params = {'n_estimators':range(10, 101, 10), 'criterion':['mae', 'mse'], \n",
    "          'max_features': ['auto', 'sqrt', 'log2']}\n",
    "\n",
    "gs = GridSearchCV(forest_reg, params, scoring = 'neg_mean_absolute_error', cv=5)\n",
    "gs.fit(X_train, y_train)"
   ]
  },
  {
   "cell_type": "code",
   "execution_count": 65,
   "metadata": {},
   "outputs": [
    {
     "data": {
      "text/plain": [
       "-13.686987893462469"
      ]
     },
     "execution_count": 65,
     "metadata": {},
     "output_type": "execute_result"
    }
   ],
   "source": [
    "gs.best_score_"
   ]
  },
  {
   "cell_type": "code",
   "execution_count": 66,
   "metadata": {},
   "outputs": [
    {
     "data": {
      "text/plain": [
       "RandomForestRegressor(bootstrap=True, ccp_alpha=0.0, criterion='mse',\n",
       "                      max_depth=None, max_features='sqrt', max_leaf_nodes=None,\n",
       "                      max_samples=None, min_impurity_decrease=0.0,\n",
       "                      min_impurity_split=None, min_samples_leaf=1,\n",
       "                      min_samples_split=2, min_weight_fraction_leaf=0.0,\n",
       "                      n_estimators=100, n_jobs=None, oob_score=False,\n",
       "                      random_state=None, verbose=0, warm_start=False)"
      ]
     },
     "execution_count": 66,
     "metadata": {},
     "output_type": "execute_result"
    }
   ],
   "source": [
    "gs.best_estimator_"
   ]
  },
  {
   "cell_type": "code",
   "execution_count": 70,
   "metadata": {},
   "outputs": [],
   "source": [
    "# Ensemble test\n",
    "sal_pred_lm = lm.predict(X_test)\n",
    "sal_pred_lml = lm_l.predict(X_test)\n",
    "sal_pred_rf = gs.best_estimator_.predict(X_test)"
   ]
  },
  {
   "cell_type": "code",
   "execution_count": 72,
   "metadata": {},
   "outputs": [
    {
     "name": "stdout",
     "output_type": "stream",
     "text": [
      "Linear Regression: 20.723420894635094\n",
      "Lasso Regression: 20.63203309081816\n",
      "Random Forest: 12.814228187919465\n"
     ]
    }
   ],
   "source": [
    "from sklearn.metrics import mean_absolute_error\n",
    "\n",
    "print(\"Linear Regression:\", mean_absolute_error(y_test, sal_pred_lm))\n",
    "print(\"Lasso Regression:\", mean_absolute_error(y_test, sal_pred_lml))\n",
    "print(\"Random Forest:\", mean_absolute_error(y_test, sal_pred_rf))"
   ]
  },
  {
   "cell_type": "code",
   "execution_count": 74,
   "metadata": {},
   "outputs": [
    {
     "name": "stdout",
     "output_type": "stream",
     "text": [
      "Random Forest: 15.693749050154171\n"
     ]
    }
   ],
   "source": [
    "print(\"Random Forest + Lasso:\", mean_absolute_error(y_test, (sal_pred_rf+sal_pred_lml)/2))"
   ]
  },
  {
   "cell_type": "code",
   "execution_count": null,
   "metadata": {},
   "outputs": [],
   "source": []
  }
 ],
 "metadata": {
  "kernelspec": {
   "display_name": "Python 3",
   "language": "python",
   "name": "python3"
  },
  "language_info": {
   "codemirror_mode": {
    "name": "ipython",
    "version": 3
   },
   "file_extension": ".py",
   "mimetype": "text/x-python",
   "name": "python",
   "nbconvert_exporter": "python",
   "pygments_lexer": "ipython3",
   "version": "3.7.6"
  }
 },
 "nbformat": 4,
 "nbformat_minor": 4
}
